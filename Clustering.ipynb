{
  "nbformat": 4,
  "nbformat_minor": 0,
  "metadata": {
    "colab": {
      "name": "Clustering.ipynb",
      "provenance": [],
      "collapsed_sections": []
    },
    "kernelspec": {
      "name": "python3",
      "display_name": "Python 3"
    },
    "language_info": {
      "name": "python"
    }
  },
  "cells": [
    {
      "cell_type": "code",
      "metadata": {
        "id": "PmvaU7lgbzdR"
      },
      "source": [
        "import pandas as pd\n",
        "from matplotlib import pyplot as plt\n",
        "from sklearn.cluster import KMeans\n",
        "from google.colab import drive"
      ],
      "execution_count": 51,
      "outputs": []
    },
    {
      "cell_type": "code",
      "metadata": {
        "colab": {
          "base_uri": "https://localhost:8080/"
        },
        "id": "yhcPIIoudECE",
        "outputId": "420539d8-7cb6-4aa4-f4e3-d870471a7729"
      },
      "source": [
        "drive.mount('/content/drive') # Monta o conteúdo do drive para ele ser acessado pelo notebook"
      ],
      "execution_count": 52,
      "outputs": [
        {
          "output_type": "stream",
          "name": "stdout",
          "text": [
            "Drive already mounted at /content/drive; to attempt to forcibly remount, call drive.mount(\"/content/drive\", force_remount=True).\n"
          ]
        }
      ]
    },
    {
      "cell_type": "code",
      "metadata": {
        "id": "eziHWF-2cALC",
        "colab": {
          "base_uri": "https://localhost:8080/",
          "height": 424
        },
        "outputId": "16b21e26-0905-46d0-ac57-ca128f22700f"
      },
      "source": [
        "#Lê a base, separa os dados importantes e os modifica para serem trabalhados no K-means\n",
        "data = pd.read_csv('/content/drive/MyDrive/eyes_clustering.csv')\n",
        "data.drop(data.columns[[0,6]],axis=1, inplace=True)\n",
        "data = data.applymap(lambda x: str(x).replace(',','.') )\n",
        "data"
      ],
      "execution_count": 53,
      "outputs": [
        {
          "output_type": "execute_result",
          "data": {
            "text/html": [
              "<div>\n",
              "<style scoped>\n",
              "    .dataframe tbody tr th:only-of-type {\n",
              "        vertical-align: middle;\n",
              "    }\n",
              "\n",
              "    .dataframe tbody tr th {\n",
              "        vertical-align: top;\n",
              "    }\n",
              "\n",
              "    .dataframe thead th {\n",
              "        text-align: right;\n",
              "    }\n",
              "</style>\n",
              "<table border=\"1\" class=\"dataframe\">\n",
              "  <thead>\n",
              "    <tr style=\"text-align: right;\">\n",
              "      <th></th>\n",
              "      <th>AL</th>\n",
              "      <th>ACD</th>\n",
              "      <th>WTW</th>\n",
              "      <th>K1</th>\n",
              "      <th>K2</th>\n",
              "    </tr>\n",
              "  </thead>\n",
              "  <tbody>\n",
              "    <tr>\n",
              "      <th>0</th>\n",
              "      <td>23.79</td>\n",
              "      <td>3.32</td>\n",
              "      <td>12</td>\n",
              "      <td>43.6</td>\n",
              "      <td>44.29</td>\n",
              "    </tr>\n",
              "    <tr>\n",
              "      <th>1</th>\n",
              "      <td>24.6</td>\n",
              "      <td>3.39</td>\n",
              "      <td>12.3</td>\n",
              "      <td>42.03</td>\n",
              "      <td>43.95</td>\n",
              "    </tr>\n",
              "    <tr>\n",
              "      <th>2</th>\n",
              "      <td>24.59</td>\n",
              "      <td>3.51</td>\n",
              "      <td>12.3</td>\n",
              "      <td>42.83</td>\n",
              "      <td>43.05</td>\n",
              "    </tr>\n",
              "    <tr>\n",
              "      <th>3</th>\n",
              "      <td>24.04</td>\n",
              "      <td>2.96</td>\n",
              "      <td>12</td>\n",
              "      <td>42.35</td>\n",
              "      <td>42.83</td>\n",
              "    </tr>\n",
              "    <tr>\n",
              "      <th>4</th>\n",
              "      <td>24.8</td>\n",
              "      <td>2.44</td>\n",
              "      <td>12.2</td>\n",
              "      <td>41.01</td>\n",
              "      <td>41.67</td>\n",
              "    </tr>\n",
              "    <tr>\n",
              "      <th>...</th>\n",
              "      <td>...</td>\n",
              "      <td>...</td>\n",
              "      <td>...</td>\n",
              "      <td>...</td>\n",
              "      <td>...</td>\n",
              "    </tr>\n",
              "    <tr>\n",
              "      <th>1523</th>\n",
              "      <td>23.32</td>\n",
              "      <td>3.29</td>\n",
              "      <td>12.5</td>\n",
              "      <td>43.16</td>\n",
              "      <td>43.95</td>\n",
              "    </tr>\n",
              "    <tr>\n",
              "      <th>1524</th>\n",
              "      <td>23.59</td>\n",
              "      <td>3.19</td>\n",
              "      <td>13</td>\n",
              "      <td>42.72</td>\n",
              "      <td>43.6</td>\n",
              "    </tr>\n",
              "    <tr>\n",
              "      <th>1525</th>\n",
              "      <td>26.18</td>\n",
              "      <td>3.83</td>\n",
              "      <td>12.1</td>\n",
              "      <td>43.44</td>\n",
              "      <td>44.18</td>\n",
              "    </tr>\n",
              "    <tr>\n",
              "      <th>1526</th>\n",
              "      <td>24.09</td>\n",
              "      <td>2.77</td>\n",
              "      <td>12.6</td>\n",
              "      <td>42.83</td>\n",
              "      <td>43.72</td>\n",
              "    </tr>\n",
              "    <tr>\n",
              "      <th>1527</th>\n",
              "      <td>23.99</td>\n",
              "      <td>3.09</td>\n",
              "      <td>11.8</td>\n",
              "      <td>44.7</td>\n",
              "      <td>45.3</td>\n",
              "    </tr>\n",
              "  </tbody>\n",
              "</table>\n",
              "<p>1528 rows × 5 columns</p>\n",
              "</div>"
            ],
            "text/plain": [
              "         AL   ACD   WTW     K1     K2\n",
              "0     23.79  3.32    12   43.6  44.29\n",
              "1      24.6  3.39  12.3  42.03  43.95\n",
              "2     24.59  3.51  12.3  42.83  43.05\n",
              "3     24.04  2.96    12  42.35  42.83\n",
              "4      24.8  2.44  12.2  41.01  41.67\n",
              "...     ...   ...   ...    ...    ...\n",
              "1523  23.32  3.29  12.5  43.16  43.95\n",
              "1524  23.59  3.19    13  42.72   43.6\n",
              "1525  26.18  3.83  12.1  43.44  44.18\n",
              "1526  24.09  2.77  12.6  42.83  43.72\n",
              "1527  23.99  3.09  11.8   44.7   45.3\n",
              "\n",
              "[1528 rows x 5 columns]"
            ]
          },
          "metadata": {},
          "execution_count": 53
        }
      ]
    },
    {
      "cell_type": "code",
      "metadata": {
        "colab": {
          "base_uri": "https://localhost:8080/",
          "height": 295
        },
        "id": "x43zG2y8owcO",
        "outputId": "03fabb82-87e6-494c-eda0-f301d67beeca"
      },
      "source": [
        "#Utilizando o método do cotovelo para encontrar um número ótimo de clusters\n",
        "wcss = []\n",
        " \n",
        "for i in range(1, 11):\n",
        "    kmeans = KMeans(n_clusters = i, init = 'random')\n",
        "    kmeans.fit(data)\n",
        "    wcss.append(kmeans.inertia_)  \n",
        "plt.plot(range(1, 11), wcss)\n",
        "plt.title('Metodo do Cotovelo')\n",
        "plt.xlabel('Numero de Clusters')\n",
        "plt.ylabel('WSS')\n",
        "plt.show()"
      ],
      "execution_count": 54,
      "outputs": [
        {
          "output_type": "display_data",
          "data": {
            "image/png": "[encoded data removed]",
            "text/plain": [
              "<Figure size 432x288 with 1 Axes>"
            ]
          },
          "metadata": {
            "needs_background": "light"
          }
        }
      ]
    },
    {
      "cell_type": "code",
      "metadata": {
        "id": "uookqWw_cF2h",
        "colab": {
          "base_uri": "https://localhost:8080/"
        },
        "outputId": "a7463e76-c3ee-4eb4-9462-d607af346089"
      },
      "source": [
        "#Aplicando o K-means e verificando seus centróides\n",
        "kmeans = KMeans(n_clusters=3, random_state=0)\n",
        "pred_y = kmeans.fit_predict(data)\n",
        "kmeans.cluster_centers_\n"
      ],
      "execution_count": 55,
      "outputs": [
        {
          "output_type": "execute_result",
          "data": {
            "text/plain": [
              "array([[23.54785997,  3.13110964, 12.01149273, 43.33453104, 44.18457067],\n",
              "       [22.59333333,  3.00531963, 11.71974886, 45.38657534, 46.37525114],\n",
              "       [24.52192192,  3.18468468, 12.22822823, 41.25333333, 42.15576577]])"
            ]
          },
          "metadata": {},
          "execution_count": 55
        }
      ]
    },
    {
      "cell_type": "code",
      "metadata": {
        "colab": {
          "base_uri": "https://localhost:8080/",
          "height": 424
        },
        "id": "_DRQ7F5ffsXz",
        "outputId": "96625d21-fd7c-4916-ea3e-d235b7c37772"
      },
      "source": [
        "#Organizando os dados da base original separando-os por clusters\n",
        "cluster_map = pd.DataFrame()\n",
        "cluster_map['índice dos dados'] = data.index.values\n",
        "cluster_map['cluster'] = kmeans.labels_\n",
        "cluster_map"
      ],
      "execution_count": 56,
      "outputs": [
        {
          "output_type": "execute_result",
          "data": {
            "text/html": [
              "<div>\n",
              "<style scoped>\n",
              "    .dataframe tbody tr th:only-of-type {\n",
              "        vertical-align: middle;\n",
              "    }\n",
              "\n",
              "    .dataframe tbody tr th {\n",
              "        vertical-align: top;\n",
              "    }\n",
              "\n",
              "    .dataframe thead th {\n",
              "        text-align: right;\n",
              "    }\n",
              "</style>\n",
              "<table border=\"1\" class=\"dataframe\">\n",
              "  <thead>\n",
              "    <tr style=\"text-align: right;\">\n",
              "      <th></th>\n",
              "      <th>índice dos dados</th>\n",
              "      <th>cluster</th>\n",
              "    </tr>\n",
              "  </thead>\n",
              "  <tbody>\n",
              "    <tr>\n",
              "      <th>0</th>\n",
              "      <td>0</td>\n",
              "      <td>0</td>\n",
              "    </tr>\n",
              "    <tr>\n",
              "      <th>1</th>\n",
              "      <td>1</td>\n",
              "      <td>0</td>\n",
              "    </tr>\n",
              "    <tr>\n",
              "      <th>2</th>\n",
              "      <td>2</td>\n",
              "      <td>0</td>\n",
              "    </tr>\n",
              "    <tr>\n",
              "      <th>3</th>\n",
              "      <td>3</td>\n",
              "      <td>2</td>\n",
              "    </tr>\n",
              "    <tr>\n",
              "      <th>4</th>\n",
              "      <td>4</td>\n",
              "      <td>2</td>\n",
              "    </tr>\n",
              "    <tr>\n",
              "      <th>...</th>\n",
              "      <td>...</td>\n",
              "      <td>...</td>\n",
              "    </tr>\n",
              "    <tr>\n",
              "      <th>1523</th>\n",
              "      <td>1523</td>\n",
              "      <td>0</td>\n",
              "    </tr>\n",
              "    <tr>\n",
              "      <th>1524</th>\n",
              "      <td>1524</td>\n",
              "      <td>0</td>\n",
              "    </tr>\n",
              "    <tr>\n",
              "      <th>1525</th>\n",
              "      <td>1525</td>\n",
              "      <td>0</td>\n",
              "    </tr>\n",
              "    <tr>\n",
              "      <th>1526</th>\n",
              "      <td>1526</td>\n",
              "      <td>0</td>\n",
              "    </tr>\n",
              "    <tr>\n",
              "      <th>1527</th>\n",
              "      <td>1527</td>\n",
              "      <td>0</td>\n",
              "    </tr>\n",
              "  </tbody>\n",
              "</table>\n",
              "<p>1528 rows × 2 columns</p>\n",
              "</div>"
            ],
            "text/plain": [
              "      índice dos dados  cluster\n",
              "0                    0        0\n",
              "1                    1        0\n",
              "2                    2        0\n",
              "3                    3        2\n",
              "4                    4        2\n",
              "...                ...      ...\n",
              "1523              1523        0\n",
              "1524              1524        0\n",
              "1525              1525        0\n",
              "1526              1526        0\n",
              "1527              1527        0\n",
              "\n",
              "[1528 rows x 2 columns]"
            ]
          },
          "metadata": {},
          "execution_count": 56
        }
      ]
    },
    {
      "cell_type": "code",
      "metadata": {
        "colab": {
          "base_uri": "https://localhost:8080/",
          "height": 424
        },
        "id": "Du3ZaiceL2bo",
        "outputId": "0bdfcf9d-3ccd-4b42-ff0e-a388c776a434"
      },
      "source": [
        "# Cria uma nova database contendo todo as informações dos clusters e a coluna \"correto\"\n",
        "\n",
        "cluster_data = pd.read_csv('/content/drive/MyDrive/eyes_clustering.csv')\n",
        "cluster_data = pd.concat([cluster_data, cluster_map], axis=1)\n",
        "cluster_data.drop(['ID','AL','ACD','WTW','K1','K2','índice dos dados'],axis=1, inplace=True)\n",
        "\n",
        "cluster_data"
      ],
      "execution_count": 57,
      "outputs": [
        {
          "output_type": "execute_result",
          "data": {
            "text/html": [
              "<div>\n",
              "<style scoped>\n",
              "    .dataframe tbody tr th:only-of-type {\n",
              "        vertical-align: middle;\n",
              "    }\n",
              "\n",
              "    .dataframe tbody tr th {\n",
              "        vertical-align: top;\n",
              "    }\n",
              "\n",
              "    .dataframe thead th {\n",
              "        text-align: right;\n",
              "    }\n",
              "</style>\n",
              "<table border=\"1\" class=\"dataframe\">\n",
              "  <thead>\n",
              "    <tr style=\"text-align: right;\">\n",
              "      <th></th>\n",
              "      <th>Correto</th>\n",
              "      <th>cluster</th>\n",
              "    </tr>\n",
              "  </thead>\n",
              "  <tbody>\n",
              "    <tr>\n",
              "      <th>0</th>\n",
              "      <td>S</td>\n",
              "      <td>0</td>\n",
              "    </tr>\n",
              "    <tr>\n",
              "      <th>1</th>\n",
              "      <td>S</td>\n",
              "      <td>0</td>\n",
              "    </tr>\n",
              "    <tr>\n",
              "      <th>2</th>\n",
              "      <td>S</td>\n",
              "      <td>0</td>\n",
              "    </tr>\n",
              "    <tr>\n",
              "      <th>3</th>\n",
              "      <td>S</td>\n",
              "      <td>2</td>\n",
              "    </tr>\n",
              "    <tr>\n",
              "      <th>4</th>\n",
              "      <td>S</td>\n",
              "      <td>2</td>\n",
              "    </tr>\n",
              "    <tr>\n",
              "      <th>...</th>\n",
              "      <td>...</td>\n",
              "      <td>...</td>\n",
              "    </tr>\n",
              "    <tr>\n",
              "      <th>1523</th>\n",
              "      <td>S</td>\n",
              "      <td>0</td>\n",
              "    </tr>\n",
              "    <tr>\n",
              "      <th>1524</th>\n",
              "      <td>N</td>\n",
              "      <td>0</td>\n",
              "    </tr>\n",
              "    <tr>\n",
              "      <th>1525</th>\n",
              "      <td>S</td>\n",
              "      <td>0</td>\n",
              "    </tr>\n",
              "    <tr>\n",
              "      <th>1526</th>\n",
              "      <td>S</td>\n",
              "      <td>0</td>\n",
              "    </tr>\n",
              "    <tr>\n",
              "      <th>1527</th>\n",
              "      <td>N</td>\n",
              "      <td>0</td>\n",
              "    </tr>\n",
              "  </tbody>\n",
              "</table>\n",
              "<p>1528 rows × 2 columns</p>\n",
              "</div>"
            ],
            "text/plain": [
              "     Correto  cluster\n",
              "0          S        0\n",
              "1          S        0\n",
              "2          S        0\n",
              "3          S        2\n",
              "4          S        2\n",
              "...      ...      ...\n",
              "1523       S        0\n",
              "1524       N        0\n",
              "1525       S        0\n",
              "1526       S        0\n",
              "1527       N        0\n",
              "\n",
              "[1528 rows x 2 columns]"
            ]
          },
          "metadata": {},
          "execution_count": 57
        }
      ]
    },
    {
      "cell_type": "code",
      "metadata": {
        "colab": {
          "base_uri": "https://localhost:8080/"
        },
        "id": "RbpCWbiAODSc",
        "outputId": "c50b9903-5d5b-442d-81a2-1c6eb8d8d68c"
      },
      "source": [
        "cluster_data.value_counts()"
      ],
      "execution_count": 58,
      "outputs": [
        {
          "output_type": "execute_result",
          "data": {
            "text/plain": [
              "Correto  cluster\n",
              "S        0          543\n",
              "         1          302\n",
              "         2          237\n",
              "N        0          214\n",
              "         1          136\n",
              "         2           96\n",
              "dtype: int64"
            ]
          },
          "metadata": {},
          "execution_count": 58
        }
      ]
    }
  ]
}